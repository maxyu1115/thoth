{
 "cells": [
  {
   "cell_type": "code",
   "execution_count": 82,
   "id": "963ff440",
   "metadata": {},
   "outputs": [],
   "source": [
    "# Standard PySceneDetect imports:\n",
    "from scenedetect import VideoManager\n",
    "from scenedetect import SceneManager\n",
    "from scenedetect.stats_manager import StatsManager\n",
    "\n",
    "# For content-aware scene detection:\n",
    "from scenedetect.detectors import ContentDetector, ThresholdDetector\n",
    "from \n",
    "\n",
    "def find_scenes(video_path, threshold=30.0):\n",
    "    # Create our video & scene managers, then add the detector.\n",
    "    video_manager = VideoManager([video_path])\n",
    "    stats_manager = StatsManager()\n",
    "    scene_manager = SceneManager(stats_manager)\n",
    "    scene_manager.add_detector(\n",
    "        ContentDetector(threshold=threshold))\n",
    "\n",
    "    # Improve processing speed by downscaling before processing.\n",
    "    video_manager.set_downscale_factor()\n",
    "    \n",
    "    \n",
    "    # Start the video manager and perform the scene detection.\n",
    "    video_manager.start()\n",
    "    scene_manager.detect_scenes(frame_source=video_manager)\n",
    "    \n",
    "    \n",
    "    \n",
    "    # Each returned scene is a tuple of the (start, end) timecode.\n",
    "    return scene_manager.get_scene_list(), stats_manager\n"
   ]
  },
  {
   "cell_type": "code",
   "execution_count": 83,
   "id": "2748b51a",
   "metadata": {
    "scrolled": false
   },
   "outputs": [
    {
     "name": "stderr",
     "output_type": "stream",
     "text": [
      "100%|██████████████████████████████| 116445/116445 [04:17<00:00, 452.15frames/s]\n"
     ]
    },
    {
     "name": "stdout",
     "output_type": "stream",
     "text": [
      "[(FrameTimecode(frame=0, fps=25.000000), FrameTimecode(frame=6300, fps=25.000000)), (FrameTimecode(frame=6300, fps=25.000000), FrameTimecode(frame=6439, fps=25.000000)), (FrameTimecode(frame=6439, fps=25.000000), FrameTimecode(frame=6540, fps=25.000000)), (FrameTimecode(frame=6540, fps=25.000000), FrameTimecode(frame=11219, fps=25.000000)), (FrameTimecode(frame=11219, fps=25.000000), FrameTimecode(frame=11282, fps=25.000000)), (FrameTimecode(frame=11282, fps=25.000000), FrameTimecode(frame=11563, fps=25.000000)), (FrameTimecode(frame=11563, fps=25.000000), FrameTimecode(frame=11584, fps=25.000000)), (FrameTimecode(frame=11584, fps=25.000000), FrameTimecode(frame=14192, fps=25.000000)), (FrameTimecode(frame=14192, fps=25.000000), FrameTimecode(frame=20048, fps=25.000000)), (FrameTimecode(frame=20048, fps=25.000000), FrameTimecode(frame=20924, fps=25.000000)), (FrameTimecode(frame=20924, fps=25.000000), FrameTimecode(frame=22606, fps=25.000000)), (FrameTimecode(frame=22606, fps=25.000000), FrameTimecode(frame=31811, fps=25.000000)), (FrameTimecode(frame=31811, fps=25.000000), FrameTimecode(frame=31863, fps=25.000000)), (FrameTimecode(frame=31863, fps=25.000000), FrameTimecode(frame=32162, fps=25.000000)), (FrameTimecode(frame=32162, fps=25.000000), FrameTimecode(frame=34792, fps=25.000000)), (FrameTimecode(frame=34792, fps=25.000000), FrameTimecode(frame=34821, fps=25.000000)), (FrameTimecode(frame=34821, fps=25.000000), FrameTimecode(frame=35563, fps=25.000000)), (FrameTimecode(frame=35563, fps=25.000000), FrameTimecode(frame=42796, fps=25.000000)), (FrameTimecode(frame=42796, fps=25.000000), FrameTimecode(frame=44987, fps=25.000000)), (FrameTimecode(frame=44987, fps=25.000000), FrameTimecode(frame=45010, fps=25.000000)), (FrameTimecode(frame=45010, fps=25.000000), FrameTimecode(frame=58730, fps=25.000000)), (FrameTimecode(frame=58730, fps=25.000000), FrameTimecode(frame=60024, fps=25.000000)), (FrameTimecode(frame=60024, fps=25.000000), FrameTimecode(frame=61351, fps=25.000000)), (FrameTimecode(frame=61351, fps=25.000000), FrameTimecode(frame=67245, fps=25.000000)), (FrameTimecode(frame=67245, fps=25.000000), FrameTimecode(frame=76634, fps=25.000000)), (FrameTimecode(frame=76634, fps=25.000000), FrameTimecode(frame=83889, fps=25.000000)), (FrameTimecode(frame=83889, fps=25.000000), FrameTimecode(frame=89273, fps=25.000000)), (FrameTimecode(frame=89273, fps=25.000000), FrameTimecode(frame=97277, fps=25.000000)), (FrameTimecode(frame=97277, fps=25.000000), FrameTimecode(frame=97322, fps=25.000000)), (FrameTimecode(frame=97322, fps=25.000000), FrameTimecode(frame=97366, fps=25.000000)), (FrameTimecode(frame=97366, fps=25.000000), FrameTimecode(frame=112938, fps=25.000000)), (FrameTimecode(frame=112938, fps=25.000000), FrameTimecode(frame=116445, fps=25.000000))]\n"
     ]
    }
   ],
   "source": [
    "scenes, stats = find_scenes(\"./trainingDataPreprocessing/video.mp4\")\n",
    "print(scenes)"
   ]
  },
  {
   "cell_type": "code",
   "execution_count": 84,
   "id": "20150a7a",
   "metadata": {},
   "outputs": [],
   "source": [
    "import matplotlib.pyplot as plt"
   ]
  },
  {
   "cell_type": "code",
   "execution_count": 86,
   "id": "7eff110c",
   "metadata": {},
   "outputs": [],
   "source": [
    "v = [stats.get_metrics(x,[\"content_val\"]) for x in range(116445)]"
   ]
  },
  {
   "cell_type": "code",
   "execution_count": 87,
   "id": "28265161",
   "metadata": {},
   "outputs": [],
   "source": [
    "v = v[0:len(v):60]"
   ]
  },
  {
   "cell_type": "code",
   "execution_count": 90,
   "id": "734b8584",
   "metadata": {
    "scrolled": false
   },
   "outputs": [
    {
     "data": {
      "text/plain": [
       "[<matplotlib.lines.Line2D at 0x15fa8a100>]"
      ]
     },
     "execution_count": 90,
     "metadata": {},
     "output_type": "execute_result"
    },
    {
     "data": {
      "image/png": "[encoded data removed]",
      "text/plain": [
       "<Figure size 432x288 with 1 Axes>"
      ]
     },
     "metadata": {
      "needs_background": "light"
     },
     "output_type": "display_data"
    }
   ],
   "source": [
    "plt.plot(range(len(v)),v)"
   ]
  },
  {
   "cell_type": "code",
   "execution_count": 79,
   "id": "98c85d4c",
   "metadata": {},
   "outputs": [
    {
     "data": {
      "text/plain": [
       "{'content_val', 'delta_hue', 'delta_lum', 'delta_sat'}"
      ]
     },
     "execution_count": 79,
     "metadata": {},
     "output_type": "execute_result"
    }
   ],
   "source": [
    "stats._registered_metrics"
   ]
  },
  {
   "cell_type": "code",
   "execution_count": 77,
   "id": "c1352f76",
   "metadata": {},
   "outputs": [
    {
     "data": {
      "text/plain": [
       "[None]"
      ]
     },
     "execution_count": 77,
     "metadata": {},
     "output_type": "execute_result"
    }
   ],
   "source": [
    "stats.get_metrics(60,[\"FRAME_SCORE_KEY\"])"
   ]
  },
  {
   "cell_type": "code",
   "execution_count": 49,
   "id": "1d6eb4b3",
   "metadata": {},
   "outputs": [],
   "source": [
    "frame_lst = [x[0].get_frames() for x in scenes]"
   ]
  },
  {
   "cell_type": "code",
   "execution_count": 118,
   "id": "3d0ff44f",
   "metadata": {},
   "outputs": [],
   "source": [
    "def capture(file, frames):\n",
    "    cap = cv2.VideoCapture(file)\n",
    "    length = int(cap.get(cv2.CAP_PROP_FRAME_COUNT))\n",
    "    i = 0\n",
    "    while (cap.isOpened() and i < len(frames)):\n",
    "        j = frames[i]\n",
    "        cap.set(1, j)\n",
    "        ret, frame = cap.read()\n",
    "        print(frame)\n",
    "        print(type(frame))\n",
    "        if ret == False:\n",
    "            break\n",
    "        \n",
    "#         cv.imwrite(\"./trainingDataPreprocessing/img_y/\" + \"{:04d}\".format(i) + \".png\", frame)\n",
    "        cv2.imwrite(\"q\"+str(i) + \".bmp\", frame)\n",
    "        i += 1\n",
    "        \n",
    "    cap.release()\n",
    "    cv2.destroyAllWindows()\n"
   ]
  },
  {
   "cell_type": "code",
   "execution_count": null,
   "id": "5b5aaf34",
   "metadata": {},
   "outputs": [],
   "source": []
  },
  {
   "cell_type": "code",
   "execution_count": null,
   "id": "59522a35",
   "metadata": {},
   "outputs": [],
   "source": []
  },
  {
   "cell_type": "code",
   "execution_count": 115,
   "id": "59885863",
   "metadata": {
    "scrolled": true
   },
   "outputs": [
    {
     "ename": "NameError",
     "evalue": "name 'frame' is not defined",
     "output_type": "error",
     "traceback": [
      "\u001b[0;31m---------------------------------------------------------------------------\u001b[0m",
      "\u001b[0;31mNameError\u001b[0m                                 Traceback (most recent call last)",
      "\u001b[0;32m/var/folders/0y/fnsb01_d2d58yt_4sh3cszhc0000gn/T/ipykernel_86227/3115221390.py\u001b[0m in \u001b[0;36m<module>\u001b[0;34m\u001b[0m\n\u001b[0;32m----> 1\u001b[0;31m \u001b[0mframe\u001b[0m\u001b[0;34m\u001b[0m\u001b[0;34m\u001b[0m\u001b[0m\n\u001b[0m",
      "\u001b[0;31mNameError\u001b[0m: name 'frame' is not defined"
     ]
    }
   ],
   "source": [
    "frame"
   ]
  },
  {
   "cell_type": "code",
   "execution_count": 119,
   "id": "4e3ed039",
   "metadata": {
    "scrolled": true
   },
   "outputs": [
    {
     "name": "stdout",
     "output_type": "stream",
     "text": [
      "[[[0 0 0]\n",
      "  [0 0 0]\n",
      "  [0 0 0]\n",
      "  ...\n",
      "  [0 0 0]\n",
      "  [0 0 0]\n",
      "  [0 0 0]]\n",
      "\n",
      " [[0 0 0]\n",
      "  [0 0 0]\n",
      "  [0 0 0]\n",
      "  ...\n",
      "  [0 0 0]\n",
      "  [0 0 0]\n",
      "  [0 0 0]]\n",
      "\n",
      " [[0 0 0]\n",
      "  [0 0 0]\n",
      "  [0 0 0]\n",
      "  ...\n",
      "  [0 0 0]\n",
      "  [0 0 0]\n",
      "  [0 0 0]]\n",
      "\n",
      " ...\n",
      "\n",
      " [[0 0 0]\n",
      "  [0 0 0]\n",
      "  [0 0 0]\n",
      "  ...\n",
      "  [0 0 0]\n",
      "  [0 0 0]\n",
      "  [0 0 0]]\n",
      "\n",
      " [[0 0 0]\n",
      "  [0 0 0]\n",
      "  [0 0 0]\n",
      "  ...\n",
      "  [0 0 0]\n",
      "  [0 0 0]\n",
      "  [0 0 0]]\n",
      "\n",
      " [[0 0 0]\n",
      "  [0 0 0]\n",
      "  [0 0 0]\n",
      "  ...\n",
      "  [0 0 0]\n",
      "  [0 0 0]\n",
      "  [0 0 0]]]\n",
      "<class 'numpy.ndarray'>\n",
      "[[[0 0 0]\n",
      "  [0 0 0]\n",
      "  [0 0 0]\n",
      "  ...\n",
      "  [0 0 0]\n",
      "  [0 0 0]\n",
      "  [0 0 0]]\n",
      "\n",
      " [[0 0 0]\n",
      "  [0 0 0]\n",
      "  [0 0 0]\n",
      "  ...\n",
      "  [0 0 0]\n",
      "  [0 0 0]\n",
      "  [0 0 0]]\n",
      "\n",
      " [[0 0 0]\n",
      "  [0 0 0]\n",
      "  [0 0 0]\n",
      "  ...\n",
      "  [0 0 0]\n",
      "  [0 0 0]\n",
      "  [0 0 0]]\n",
      "\n",
      " ...\n",
      "\n",
      " [[0 0 0]\n",
      "  [0 0 0]\n",
      "  [0 0 0]\n",
      "  ...\n",
      "  [0 0 0]\n",
      "  [0 0 0]\n",
      "  [0 0 0]]\n",
      "\n",
      " [[0 0 0]\n",
      "  [0 0 0]\n",
      "  [0 0 0]\n",
      "  ...\n",
      "  [0 0 0]\n",
      "  [0 0 0]\n",
      "  [0 0 0]]\n",
      "\n",
      " [[0 0 0]\n",
      "  [0 0 0]\n",
      "  [0 0 0]\n",
      "  ...\n",
      "  [0 0 0]\n",
      "  [0 0 0]\n",
      "  [0 0 0]]]\n",
      "<class 'numpy.ndarray'>\n"
     ]
    }
   ],
   "source": [
    "capture(\"./trainingDataPreprocessing/video.mp4\", sorted(frame_lst))"
   ]
  },
  {
   "cell_type": "code",
   "execution_count": 91,
   "id": "39795472",
   "metadata": {},
   "outputs": [
    {
     "data": {
      "text/plain": [
       "1"
      ]
     },
     "execution_count": 91,
     "metadata": {},
     "output_type": "execute_result"
    }
   ],
   "source": [
    "1"
   ]
  },
  {
   "cell_type": "code",
   "execution_count": 93,
   "id": "1501f143",
   "metadata": {
    "scrolled": true
   },
   "outputs": [],
   "source": [
    "import numpy as np"
   ]
  },
  {
   "cell_type": "code",
   "execution_count": 103,
   "id": "87681cfb",
   "metadata": {},
   "outputs": [],
   "source": [
    "a = np.random.randint(16, size=(5,6,3))"
   ]
  },
  {
   "cell_type": "code",
   "execution_count": 105,
   "id": "ab4e8269",
   "metadata": {},
   "outputs": [],
   "source": [
    "b = np.random.randint(16, size=(5,6,3))"
   ]
  },
  {
   "cell_type": "code",
   "execution_count": 111,
   "id": "44ef8375",
   "metadata": {},
   "outputs": [
    {
     "data": {
      "text/plain": [
       "array([[[ 1, 14, 14],\n",
       "        [ 0, 13, 12],\n",
       "        [12, 15,  7],\n",
       "        [ 2,  5, 10],\n",
       "        [13, 12, 15],\n",
       "        [ 7, 13,  0]],\n",
       "\n",
       "       [[13, 14,  6],\n",
       "        [14,  1, 14],\n",
       "        [14,  0,  4],\n",
       "        [ 3,  7, 13],\n",
       "        [ 7,  3,  9],\n",
       "        [ 1, 10, 11]],\n",
       "\n",
       "       [[ 9,  6,  7],\n",
       "        [14,  6, 15],\n",
       "        [ 9,  3,  1],\n",
       "        [12, 10,  1],\n",
       "        [ 6,  9,  1],\n",
       "        [15, 12,  5]],\n",
       "\n",
       "       [[11, 10,  2],\n",
       "        [ 2, 11,  7],\n",
       "        [ 2,  6,  0],\n",
       "        [13, 12, 10],\n",
       "        [14,  4, 15],\n",
       "        [ 2, 10, 11]],\n",
       "\n",
       "       [[ 6,  8,  3],\n",
       "        [ 7,  2,  5],\n",
       "        [11, 14,  5],\n",
       "        [ 2,  3, 10],\n",
       "        [13,  0, 13],\n",
       "        [ 0,  1,  1]]])"
      ]
     },
     "execution_count": 111,
     "metadata": {},
     "output_type": "execute_result"
    }
   ],
   "source": [
    "b"
   ]
  },
  {
   "cell_type": "code",
   "execution_count": 110,
   "id": "59c5c372",
   "metadata": {},
   "outputs": [
    {
     "data": {
      "text/plain": [
       "array([[[ 0,  1, 15],\n",
       "        [ 6, 12,  9],\n",
       "        [ 9, 11, 12],\n",
       "        [ 0,  6, 15],\n",
       "        [13,  5, 11],\n",
       "        [11,  9,  6]],\n",
       "\n",
       "       [[12,  5, 11],\n",
       "        [ 7, 13,  4],\n",
       "        [14, 14, 11],\n",
       "        [ 8, 14,  0],\n",
       "        [ 9, 13,  7],\n",
       "        [ 7, 14, 13]],\n",
       "\n",
       "       [[ 7, 10, 11],\n",
       "        [12, 10,  7],\n",
       "        [ 9,  1, 10],\n",
       "        [11,  9,  2],\n",
       "        [10,  1, 10],\n",
       "        [11, 14,  4]],\n",
       "\n",
       "       [[ 5,  4,  2],\n",
       "        [ 6,  3,  0],\n",
       "        [ 3,  5,  7],\n",
       "        [ 8, 14, 15],\n",
       "        [14,  7, 11],\n",
       "        [ 9,  0,  2]],\n",
       "\n",
       "       [[ 4, 14, 14],\n",
       "        [ 2, 14, 11],\n",
       "        [ 8, 14,  5],\n",
       "        [ 5,  1, 11],\n",
       "        [10,  6,  2],\n",
       "        [13,  7, 14]]])"
      ]
     },
     "execution_count": 110,
     "metadata": {},
     "output_type": "execute_result"
    }
   ],
   "source": [
    "a"
   ]
  },
  {
   "cell_type": "code",
   "execution_count": 113,
   "id": "c08deff6",
   "metadata": {},
   "outputs": [],
   "source": [
    "combined = np.stack([a,b], axis=-1)"
   ]
  },
  {
   "cell_type": "code",
   "execution_count": null,
   "id": "c8f7e881",
   "metadata": {},
   "outputs": [],
   "source": []
  },
  {
   "cell_type": "code",
   "execution_count": 121,
   "id": "9a16bc62",
   "metadata": {},
   "outputs": [],
   "source": [
    "x = np.std(combined, axis=-1)"
   ]
  },
  {
   "cell_type": "code",
   "execution_count": 120,
   "id": "139bb716",
   "metadata": {},
   "outputs": [],
   "source": [
    "from numpy import linalg as LA"
   ]
  },
  {
   "cell_type": "code",
   "execution_count": 123,
   "id": "d0461d3b",
   "metadata": {},
   "outputs": [
    {
     "data": {
      "text/plain": [
       "array([[6.53834842, 3.39116499, 3.53553391, 2.73861279, 4.03112887,\n",
       "        4.12310563],\n",
       "       [5.17204022, 8.55862138, 7.82623792, 7.79422863, 5.19615242,\n",
       "        3.74165739],\n",
       "       [3.        , 4.58257569, 4.60977223, 0.8660254 , 6.34428877,\n",
       "        2.29128785],\n",
       "       [4.24264069, 5.67890835, 3.57071421, 3.67423461, 2.5       ,\n",
       "        7.58287544],\n",
       "       [6.34428877, 7.15891053, 1.5       , 1.87082869, 6.44204936,\n",
       "        9.6695398 ]])"
      ]
     },
     "execution_count": 123,
     "metadata": {},
     "output_type": "execute_result"
    }
   ],
   "source": [
    "LA.norm(x, axis=-1)"
   ]
  },
  {
   "cell_type": "code",
   "execution_count": 126,
   "id": "ffb2b570",
   "metadata": {},
   "outputs": [
    {
     "data": {
      "text/plain": [
       "4.819192432587371"
      ]
     },
     "execution_count": 126,
     "metadata": {},
     "output_type": "execute_result"
    }
   ],
   "source": [
    "np.mean(np.sum((x * x), axis=-1) ** 0.5)"
   ]
  },
  {
   "cell_type": "code",
   "execution_count": 129,
   "id": "5430ac11",
   "metadata": {},
   "outputs": [
    {
     "data": {
      "text/plain": [
       "array([[[0.5, 6.5, 0.5],\n",
       "        [3. , 0.5, 1.5],\n",
       "        [1.5, 2. , 2.5],\n",
       "        [1. , 0.5, 2.5],\n",
       "        [0. , 3.5, 2. ],\n",
       "        [2. , 2. , 3. ]],\n",
       "\n",
       "       [[0.5, 4.5, 2.5],\n",
       "        [3.5, 6. , 5. ],\n",
       "        [0. , 7. , 3.5],\n",
       "        [2.5, 3.5, 6.5],\n",
       "        [1. , 5. , 1. ],\n",
       "        [3. , 2. , 1. ]],\n",
       "\n",
       "       [[1. , 2. , 2. ],\n",
       "        [1. , 2. , 4. ],\n",
       "        [0. , 1. , 4.5],\n",
       "        [0.5, 0.5, 0.5],\n",
       "        [2. , 4. , 4.5],\n",
       "        [2. , 1. , 0.5]],\n",
       "\n",
       "       [[3. , 3. , 0. ],\n",
       "        [2. , 4. , 3.5],\n",
       "        [0.5, 0.5, 3.5],\n",
       "        [2.5, 1. , 2.5],\n",
       "        [0. , 1.5, 2. ],\n",
       "        [3.5, 5. , 4.5]],\n",
       "\n",
       "       [[1. , 3. , 5.5],\n",
       "        [2.5, 6. , 3. ],\n",
       "        [1.5, 0. , 0. ],\n",
       "        [1.5, 1. , 0.5],\n",
       "        [1.5, 3. , 5.5],\n",
       "        [6.5, 3. , 6.5]]])"
      ]
     },
     "execution_count": 129,
     "metadata": {},
     "output_type": "execute_result"
    }
   ],
   "source": [
    "x"
   ]
  },
  {
   "cell_type": "code",
   "execution_count": 139,
   "id": "51bcfc98",
   "metadata": {
    "scrolled": true
   },
   "outputs": [
    {
     "data": {
      "text/plain": [
       "array([[0.5, 6.5, 0.5],\n",
       "       [3. , 0.5, 1.5],\n",
       "       [1.5, 2. , 2.5],\n",
       "       [1. , 0.5, 2.5],\n",
       "       [0. , 3.5, 2. ],\n",
       "       [2. , 2. , 3. ],\n",
       "       [0.5, 4.5, 2.5],\n",
       "       [3.5, 6. , 5. ],\n",
       "       [0. , 7. , 3.5],\n",
       "       [2.5, 3.5, 6.5],\n",
       "       [1. , 5. , 1. ],\n",
       "       [3. , 2. , 1. ],\n",
       "       [1. , 2. , 2. ],\n",
       "       [1. , 2. , 4. ],\n",
       "       [0. , 1. , 4.5],\n",
       "       [0.5, 0.5, 0.5],\n",
       "       [2. , 4. , 4.5],\n",
       "       [2. , 1. , 0.5],\n",
       "       [3. , 3. , 0. ],\n",
       "       [2. , 4. , 3.5],\n",
       "       [0.5, 0.5, 3.5],\n",
       "       [2.5, 1. , 2.5],\n",
       "       [0. , 1.5, 2. ],\n",
       "       [3.5, 5. , 4.5],\n",
       "       [1. , 3. , 5.5],\n",
       "       [2.5, 6. , 3. ],\n",
       "       [1.5, 0. , 0. ],\n",
       "       [1.5, 1. , 0.5],\n",
       "       [1.5, 3. , 5.5],\n",
       "       [6.5, 3. , 6.5]])"
      ]
     },
     "execution_count": 139,
     "metadata": {},
     "output_type": "execute_result"
    }
   ],
   "source": [
    "x.reshape((x.shape[0]*x.shape[1], x.shape[-1]))"
   ]
  },
  {
   "cell_type": "code",
   "execution_count": 138,
   "id": "3bcbd494",
   "metadata": {
    "scrolled": true
   },
   "outputs": [
    {
     "data": {
      "text/plain": [
       "array([[1.33333333, 2.5       , 2.        ],\n",
       "       [1.75      , 4.66666667, 3.25      ],\n",
       "       [1.08333333, 1.75      , 2.66666667],\n",
       "       [1.91666667, 2.5       , 2.66666667],\n",
       "       [2.41666667, 2.66666667, 3.5       ]])"
      ]
     },
     "execution_count": 138,
     "metadata": {},
     "output_type": "execute_result"
    }
   ],
   "source": [
    "np.mean(x, resha)"
   ]
  },
  {
   "cell_type": "code",
   "execution_count": 140,
   "id": "6454a2af",
   "metadata": {},
   "outputs": [
    {
     "data": {
      "text/plain": [
       "(5, 6, 3)"
      ]
     },
     "execution_count": 140,
     "metadata": {},
     "output_type": "execute_result"
    }
   ],
   "source": [
    "x.shape"
   ]
  },
  {
   "cell_type": "code",
   "execution_count": 143,
   "id": "df329f8b",
   "metadata": {},
   "outputs": [],
   "source": [
    "y=np.transpose(x)"
   ]
  },
  {
   "cell_type": "code",
   "execution_count": 145,
   "id": "e21111b9",
   "metadata": {},
   "outputs": [
    {
     "data": {
      "text/plain": [
       "array([[[0.5, 0.5, 1. , 3. , 1. ],\n",
       "        [3. , 3.5, 1. , 2. , 2.5],\n",
       "        [1.5, 0. , 0. , 0.5, 1.5],\n",
       "        [1. , 2.5, 0.5, 2.5, 1.5],\n",
       "        [0. , 1. , 2. , 0. , 1.5],\n",
       "        [2. , 3. , 2. , 3.5, 6.5]],\n",
       "\n",
       "       [[6.5, 4.5, 2. , 3. , 3. ],\n",
       "        [0.5, 6. , 2. , 4. , 6. ],\n",
       "        [2. , 7. , 1. , 0.5, 0. ],\n",
       "        [0.5, 3.5, 0.5, 1. , 1. ],\n",
       "        [3.5, 5. , 4. , 1.5, 3. ],\n",
       "        [2. , 2. , 1. , 5. , 3. ]],\n",
       "\n",
       "       [[0.5, 2.5, 2. , 0. , 5.5],\n",
       "        [1.5, 5. , 4. , 3.5, 3. ],\n",
       "        [2.5, 3.5, 4.5, 3.5, 0. ],\n",
       "        [2.5, 6.5, 0.5, 2.5, 0.5],\n",
       "        [2. , 1. , 4.5, 2. , 5.5],\n",
       "        [3. , 1. , 0.5, 4.5, 6.5]]])"
      ]
     },
     "execution_count": 145,
     "metadata": {},
     "output_type": "execute_result"
    }
   ],
   "source": [
    "y"
   ]
  },
  {
   "cell_type": "code",
   "execution_count": 150,
   "id": "232fc298",
   "metadata": {
    "scrolled": true
   },
   "outputs": [
    {
     "data": {
      "text/plain": [
       "array([1.7       , 2.81666667, 2.81666667])"
      ]
     },
     "execution_count": 150,
     "metadata": {},
     "output_type": "execute_result"
    }
   ],
   "source": [
    "np.mean(np.mean(x, axis=0), axis=0)"
   ]
  },
  {
   "cell_type": "code",
   "execution_count": null,
   "id": "c8d11981",
   "metadata": {},
   "outputs": [],
   "source": []
  }
 ],
 "metadata": {
  "kernelspec": {
   "display_name": "torch",
   "language": "python",
   "name": "torch"
  },
  "language_info": {
   "codemirror_mode": {
    "name": "ipython",
    "version": 3
   },
   "file_extension": ".py",
   "mimetype": "text/x-python",
   "name": "python",
   "nbconvert_exporter": "python",
   "pygments_lexer": "ipython3",
   "version": "3.8.10"
  }
 },
 "nbformat": 4,
 "nbformat_minor": 5
}
