{
 "cells": [
  {
   "cell_type": "code",
   "execution_count": 1,
   "id": "fe99333b",
   "metadata": {},
   "outputs": [],
   "source": [
    "# Standard PySceneDetect imports:\n",
    "from scenedetect import VideoManager\n",
    "from scenedetect import SceneManager\n",
    "from scenedetect.stats_manager import StatsManager\n",
    "\n",
    "# For content-aware scene detection:\n",
    "from scenedetect.detectors import ContentDetector, ThresholdDetector\n",
    "from customDetector import StdDetector\n",
    "\n",
    "import matplotlib.pyplot as plt"
   ]
  },
  {
   "cell_type": "code",
   "execution_count": 2,
   "id": "c83abbfe",
   "metadata": {},
   "outputs": [],
   "source": [
    "detector = StdDetector(threshold=5)"
   ]
  },
  {
   "cell_type": "code",
   "execution_count": 5,
   "id": "963ff440",
   "metadata": {},
   "outputs": [],
   "source": [
    "def find_scenes(video_path, detector=None):\n",
    "    # Create our video & scene managers, then add the detector.\n",
    "    video_manager = VideoManager([video_path])\n",
    "    stats_manager = StatsManager()\n",
    "    scene_manager = SceneManager(stats_manager)\n",
    "    \n",
    "    if detector is None:\n",
    "        detector = StdDetector()\n",
    "    scene_manager.add_detector(detector)\n",
    "\n",
    "    # Improve processing speed by downscaling before processing.\n",
    "    video_manager.set_downscale_factor()\n",
    "    \n",
    "    # Start the video manager and perform the scene detection.\n",
    "    video_manager.start()\n",
    "    scene_manager.detect_scenes(frame_source=video_manager)\n",
    "    \n",
    "    # Each returned scene is a tuple of the (start, end) timecode.\n",
    "    return scene_manager.get_scene_list(), stats_manager\n"
   ]
  },
  {
   "cell_type": "code",
   "execution_count": 6,
   "id": "2748b51a",
   "metadata": {
    "scrolled": true
   },
   "outputs": [
    {
     "name": "stderr",
     "output_type": "stream",
     "text": [
      "100%|█████████████████████████████████████████████████████████████████████████████████████████████████████████████████████████████████████████████████████████████████████████████████████████████████████████████████████████████████████████████████████████████████████████▌| 2012/2015 [00:24<00:00, 82.34frames/s]"
     ]
    },
    {
     "name": "stdout",
     "output_type": "stream",
     "text": [
      "[(FrameTimecode(frame=0, fps=59.004392), FrameTimecode(frame=640, fps=59.004392)), (FrameTimecode(frame=640, fps=59.004392), FrameTimecode(frame=760, fps=59.004392)), (FrameTimecode(frame=760, fps=59.004392), FrameTimecode(frame=1480, fps=59.004392)), (FrameTimecode(frame=1480, fps=59.004392), FrameTimecode(frame=1510, fps=59.004392)), (FrameTimecode(frame=1510, fps=59.004392), FrameTimecode(frame=1940, fps=59.004392)), (FrameTimecode(frame=1940, fps=59.004392), FrameTimecode(frame=2012, fps=59.004392))]\n"
     ]
    },
    {
     "name": "stderr",
     "output_type": "stream",
     "text": [
      "\n"
     ]
    }
   ],
   "source": [
    "scenes, stats = find_scenes('../test/SlideChangeTest1.mov')\n",
    "print(scenes)"
   ]
  },
  {
   "cell_type": "code",
   "execution_count": 7,
   "id": "110ed7d9",
   "metadata": {},
   "outputs": [],
   "source": [
    "def plot_scores(stats_manager):\n",
    "    frame_axis = []\n",
    "    metrics = {}\n",
    "    for key in stats_manager._registered_metrics:\n",
    "        metrics[key] = []\n",
    "\n",
    "    for frame, val_dict in stats_manager._frame_metrics.items():\n",
    "        frame_axis.append(frame)\n",
    "        for key in StdDetector.METRIC_KEYS:\n",
    "            metrics[key].append(val_dict[key])\n",
    "\n",
    "\n",
    "    for key in StdDetector.METRIC_KEYS:\n",
    "        plt.plot(frame_axis, metrics[key], label = key)      \n",
    "\n",
    "    plt.legend()\n",
    "    plt.show()"
   ]
  },
  {
   "cell_type": "code",
   "execution_count": 8,
   "id": "ba8c7f37",
   "metadata": {},
   "outputs": [
    {
     "data": {
      "image/png": "[encoded data removed]",
      "text/plain": [
       "<Figure size 432x288 with 1 Axes>"
      ]
     },
     "metadata": {
      "needs_background": "light"
     },
     "output_type": "display_data"
    }
   ],
   "source": [
    "plot_scores(stats)"
   ]
  },
  {
   "cell_type": "code",
   "execution_count": 9,
   "id": "51f92957",
   "metadata": {},
   "outputs": [],
   "source": [
    "def select_frames(scenes, method=\"last\"):\n",
    "    assert method in [\"last\", \"first\", \"middle\"]\n",
    "    \n",
    "    if method == \"last\":\n",
    "        return [x[1].get_frames()-1 for x in scenes]\n",
    "    elif method == \"first\":\n",
    "        return [x[0].get_frames() for x in scenes]\n",
    "    elif method == \"middle\":\n",
    "        return [(x[0].get_frames()+x[1].get_frames())//2 for x in scenes]\n",
    "    \n",
    "    return []\n",
    "    "
   ]
  },
  {
   "cell_type": "code",
   "execution_count": 11,
   "id": "b6be0852",
   "metadata": {},
   "outputs": [
    {
     "data": {
      "text/plain": [
       "[639, 759, 1479, 1509, 1939, 2011]"
      ]
     },
     "execution_count": 11,
     "metadata": {},
     "output_type": "execute_result"
    }
   ],
   "source": [
    "frame_lst = select_frames(scenes)\n",
    "frame_lst"
   ]
  },
  {
   "cell_type": "code",
   "execution_count": 31,
   "id": "3d0ff44f",
   "metadata": {},
   "outputs": [],
   "source": [
    "def export_frames(file, frames, locater):\n",
    "    cap = cv2.VideoCapture(file)\n",
    "    \n",
    "    # Find OpenCV version\n",
    "    (major_ver, minor_ver, subminor_ver) = (cv2.__version__).split('.')\n",
    "    \n",
    "    if int(major_ver)  < 3 :\n",
    "        fps = video.get(cv2.cv.CV_CAP_PROP_FPS)\n",
    "    else :\n",
    "        fps = video.get(cv2.CAP_PROP_FPS)\n",
    "    \n",
    "    length = int(cap.get(cv2.CAP_PROP_FRAME_COUNT))\n",
    "    i = 0\n",
    "    while (cap.isOpened() and i < len(frames)):\n",
    "        j = frames[i]\n",
    "        seconds = \"{:.3f}\".format(j / 25)\n",
    "        cap.set(1, j)\n",
    "        ret, frame = cap.read()\n",
    "        if ret == False:\n",
    "            break\n",
    "        \n",
    "#         cv.imwrite(\"./trainingDataPreprocessing/img_y/\" + \"{:04d}\".format(i) + \".png\", frame)\n",
    "        cv2.imwrite(\"q\"+str(i) + \".bmp\", frame)\n",
    "        i += 1\n",
    "        \n",
    "    cap.release()\n",
    "    cv2.destroyAllWindows()\n"
   ]
  },
  {
   "cell_type": "code",
   "execution_count": 17,
   "id": "4e3ed039",
   "metadata": {
    "scrolled": true
   },
   "outputs": [],
   "source": [
    "capture('../test/SlideChangeTest1.mov', sorted(frame_lst))"
   ]
  }
 ],
 "metadata": {
  "kernelspec": {
   "display_name": "torch",
   "language": "python",
   "name": "torch"
  },
  "language_info": {
   "codemirror_mode": {
    "name": "ipython",
    "version": 3
   },
   "file_extension": ".py",
   "mimetype": "text/x-python",
   "name": "python",
   "nbconvert_exporter": "python",
   "pygments_lexer": "ipython3",
   "version": "3.8.8"
  }
 },
 "nbformat": 4,
 "nbformat_minor": 5
}
