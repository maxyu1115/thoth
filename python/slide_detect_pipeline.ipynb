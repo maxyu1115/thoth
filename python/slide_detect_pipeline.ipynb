{
 "cells": [
  {
   "cell_type": "code",
   "execution_count": 1,
   "id": "fe99333b",
   "metadata": {},
   "outputs": [],
   "source": [
    "# Standard PySceneDetect imports:\n",
    "from scenedetect import VideoManager\n",
    "from scenedetect import SceneManager\n",
    "from scenedetect.stats_manager import StatsManager\n",
    "\n",
    "# For content-aware scene detection:\n",
    "from scenedetect.detectors import ContentDetector, ThresholdDetector\n",
    "from customDetector import StdDetector\n",
    "\n",
    "import matplotlib.pyplot as plt\n",
    "import cv2"
   ]
  },
  {
   "cell_type": "code",
   "execution_count": 16,
   "id": "c83abbfe",
   "metadata": {},
   "outputs": [],
   "source": [
    "detector = ContentDetector(min_scene_len=1, threshold=5)"
   ]
  },
  {
   "cell_type": "code",
   "execution_count": 17,
   "id": "963ff440",
   "metadata": {},
   "outputs": [],
   "source": [
    "def find_scenes(video_path, detector=None):\n",
    "    # Create our video & scene managers, then add the detector.\n",
    "    video_manager = VideoManager([video_path])\n",
    "    stats_manager = StatsManager()\n",
    "    scene_manager = SceneManager(stats_manager)\n",
    "    \n",
    "    if detector is None:\n",
    "        detector = StdDetector()\n",
    "    scene_manager.add_detector(detector)\n",
    "\n",
    "    # Improve processing speed by downscaling before processing.\n",
    "    video_manager.set_downscale_factor()\n",
    "    \n",
    "    # Start the video manager and perform the scene detection.\n",
    "    video_manager.start()\n",
    "    scene_manager.detect_scenes(frame_source=video_manager)\n",
    "    \n",
    "    # Each returned scene is a tuple of the (start, end) timecode.\n",
    "    return scene_manager.get_scene_list(), stats_manager\n"
   ]
  },
  {
   "cell_type": "code",
   "execution_count": 18,
   "id": "2748b51a",
   "metadata": {
    "scrolled": true
   },
   "outputs": [
    {
     "name": "stderr",
     "output_type": "stream",
     "text": [
      "100%|██████████████████████████████████████████████████████████████████████████████████████████████████████████████████████████████▊| 2012/2015 [00:22<00:00, 91.07frames/s]"
     ]
    },
    {
     "name": "stdout",
     "output_type": "stream",
     "text": [
      "[(FrameTimecode(frame=0, fps=59.004392), FrameTimecode(frame=637, fps=59.004392)), (FrameTimecode(frame=637, fps=59.004392), FrameTimecode(frame=756, fps=59.004392)), (FrameTimecode(frame=756, fps=59.004392), FrameTimecode(frame=1141, fps=59.004392)), (FrameTimecode(frame=1141, fps=59.004392), FrameTimecode(frame=1479, fps=59.004392)), (FrameTimecode(frame=1479, fps=59.004392), FrameTimecode(frame=1509, fps=59.004392)), (FrameTimecode(frame=1509, fps=59.004392), FrameTimecode(frame=1939, fps=59.004392)), (FrameTimecode(frame=1939, fps=59.004392), FrameTimecode(frame=2012, fps=59.004392))]\n"
     ]
    },
    {
     "name": "stderr",
     "output_type": "stream",
     "text": [
      "\n"
     ]
    }
   ],
   "source": [
    "scenes, stats = find_scenes('../test/SlideChangeTest1.mov', detector = detector)\n",
    "print(scenes)"
   ]
  },
  {
   "cell_type": "code",
   "execution_count": 19,
   "id": "110ed7d9",
   "metadata": {},
   "outputs": [],
   "source": [
    "def plot_scores(stats_manager):\n",
    "    frame_axis = []\n",
    "    metrics = {}\n",
    "    for key in stats_manager._registered_metrics:\n",
    "        metrics[key] = []\n",
    "\n",
    "    for frame, val_dict in stats_manager._frame_metrics.items():\n",
    "        frame_axis.append(frame)\n",
    "        for key in stats_manager._registered_metrics:\n",
    "            metrics[key].append(val_dict[key])\n",
    "\n",
    "\n",
    "    for key in stats_manager._registered_metrics:\n",
    "        plt.plot(frame_axis, metrics[key], label = key)      \n",
    "\n",
    "    for x in expected:\n",
    "        plt.vlines(x, 0, 50)\n",
    "    plt.legend()\n",
    "    plt.show()"
   ]
  },
  {
   "cell_type": "code",
   "execution_count": 20,
   "id": "ba8c7f37",
   "metadata": {},
   "outputs": [
    {
     "data": {
      "image/png": "[encoded data removed]",
      "text/plain": [
       "<Figure size 432x288 with 1 Axes>"
      ]
     },
     "metadata": {
      "needs_background": "light"
     },
     "output_type": "display_data"
    }
   ],
   "source": [
    "plot_scores(stats)"
   ]
  },
  {
   "cell_type": "code",
   "execution_count": 21,
   "id": "51f92957",
   "metadata": {},
   "outputs": [],
   "source": [
    "def select_frames(scenes, method=\"last\"):\n",
    "    assert method in [\"last\", \"first\", \"middle\"]\n",
    "    \n",
    "    if method == \"last\":\n",
    "        return [x[1].get_frames()-1 for x in scenes]\n",
    "    elif method == \"first\":\n",
    "        return [x[0].get_frames() for x in scenes]\n",
    "    elif method == \"middle\":\n",
    "        return [(x[0].get_frames()+x[1].get_frames())//2 for x in scenes]\n",
    "    \n",
    "    return []\n",
    "    "
   ]
  },
  {
   "cell_type": "code",
   "execution_count": 22,
   "id": "b6be0852",
   "metadata": {},
   "outputs": [
    {
     "data": {
      "text/plain": [
       "[318, 696, 948, 1310, 1494, 1724, 1975]"
      ]
     },
     "execution_count": 22,
     "metadata": {},
     "output_type": "execute_result"
    }
   ],
   "source": [
    "frame_lst = select_frames(scenes, method=\"middle\")\n",
    "frame_lst"
   ]
  },
  {
   "cell_type": "code",
   "execution_count": 23,
   "id": "3d0ff44f",
   "metadata": {},
   "outputs": [],
   "source": [
    "def export_frames(file, frames):\n",
    "    cap = cv2.VideoCapture(file)\n",
    "    \n",
    "    # Find OpenCV version\n",
    "    (major_ver, minor_ver, subminor_ver) = (cv2.__version__).split('.')\n",
    "    \n",
    "    if int(major_ver)  < 3 :\n",
    "        fps = cap.get(cv2.cv.CV_CAP_PROP_FPS)\n",
    "    else :\n",
    "        fps = cap.get(cv2.CAP_PROP_FPS)\n",
    "    \n",
    "    length = int(cap.get(cv2.CAP_PROP_FRAME_COUNT))\n",
    "    i = 0\n",
    "    while (cap.isOpened() and i < len(frames)):\n",
    "        j = frames[i]\n",
    "        seconds = \"{:.3f}\".format(j / 25)\n",
    "        cap.set(1, j)\n",
    "        ret, frame = cap.read()\n",
    "        if ret == False:\n",
    "            break\n",
    "        \n",
    "#         cv.imwrite(\"./trainingDataPreprocessing/img_y/\" + \"{:04d}\".format(i) + \".png\", frame)\n",
    "        cv2.imwrite(\"p\"+str(i) + \".bmp\", frame)\n",
    "        print(j, \"p\", i)\n",
    "        i += 1\n",
    "        \n",
    "    cap.release()\n",
    "    cv2.destroyAllWindows()\n"
   ]
  },
  {
   "cell_type": "code",
   "execution_count": 25,
   "id": "4e3ed039",
   "metadata": {
    "scrolled": true
   },
   "outputs": [
    {
     "name": "stdout",
     "output_type": "stream",
     "text": [
      "318 p 0\n",
      "696 p 1\n",
      "948 p 2\n",
      "1310 p 3\n",
      "1494 p 4\n",
      "1724 p 5\n",
      "1975 p 6\n"
     ]
    }
   ],
   "source": [
    "export_frames('../test/SlideChangeTest1.mov', sorted(frame_lst))"
   ]
  },
  {
   "cell_type": "code",
   "execution_count": 8,
   "id": "ca1a2f75",
   "metadata": {},
   "outputs": [],
   "source": [
    "import numpy as np"
   ]
  },
  {
   "cell_type": "code",
   "execution_count": 9,
   "id": "968a3cf1",
   "metadata": {
    "scrolled": true
   },
   "outputs": [],
   "source": [
    "expected = np.array([10, 12, 19, 25, 32, 34]) * 2010 / 34"
   ]
  },
  {
   "cell_type": "code",
   "execution_count": 25,
   "id": "25a9321a",
   "metadata": {},
   "outputs": [
    {
     "data": {
      "text/plain": [
       "array([ 591.17647059,  709.41176471, 1123.23529412, 1477.94117647,\n",
       "       1891.76470588, 2010.        ])"
      ]
     },
     "execution_count": 25,
     "metadata": {},
     "output_type": "execute_result"
    }
   ],
   "source": [
    "expected"
   ]
  },
  {
   "cell_type": "code",
   "execution_count": null,
   "id": "c87bf8a7",
   "metadata": {},
   "outputs": [],
   "source": []
  }
 ],
 "metadata": {
  "kernelspec": {
   "display_name": "torch",
   "language": "python",
   "name": "torch"
  },
  "language_info": {
   "codemirror_mode": {
    "name": "ipython",
    "version": 3
   },
   "file_extension": ".py",
   "mimetype": "text/x-python",
   "name": "python",
   "nbconvert_exporter": "python",
   "pygments_lexer": "ipython3",
   "version": "3.8.10"
  }
 },
 "nbformat": 4,
 "nbformat_minor": 5
}
