{
 "cells": [
  {
   "cell_type": "code",
   "execution_count": 1,
   "id": "fe99333b",
   "metadata": {},
   "outputs": [],
   "source": [
    "# Standard PySceneDetect imports:\n",
    "from scenedetect import VideoManager\n",
    "from scenedetect import SceneManager\n",
    "from scenedetect.stats_manager import StatsManager\n",
    "\n",
    "# For content-aware scene detection:\n",
    "from scenedetect.detectors import ContentDetector, ThresholdDetector\n",
    "from customDetector import StdDetector\n",
    "\n",
    "import matplotlib.pyplot as plt\n",
    "import cv2"
   ]
  },
  {
   "cell_type": "code",
   "execution_count": 4,
   "id": "1fcfd79a",
   "metadata": {},
   "outputs": [],
   "source": [
    "detector1 = ContentDetector(threshold=4, luma_only=True)"
   ]
  },
  {
   "cell_type": "code",
   "execution_count": 9,
   "id": "c83abbfe",
   "metadata": {},
   "outputs": [],
   "source": [
    "detector = StdDetector(skip=50, threshold=10, average=20, window=10)"
   ]
  },
  {
   "cell_type": "code",
   "execution_count": 3,
   "id": "963ff440",
   "metadata": {},
   "outputs": [],
   "source": [
    "def find_scenes(video_path, detector=None):\n",
    "    # Create our video & scene managers, then add the detector.\n",
    "    video_manager = VideoManager([video_path])\n",
    "    stats_manager = StatsManager()\n",
    "    scene_manager = SceneManager(stats_manager)\n",
    "    \n",
    "    if detector is None:\n",
    "        detector = StdDetector()\n",
    "    scene_manager.add_detector(detector)\n",
    "\n",
    "    # Improve processing speed by downscaling before processing.\n",
    "    video_manager.set_downscale_factor()\n",
    "    \n",
    "    # Start the video manager and perform the scene detection.\n",
    "    video_manager.start()\n",
    "    scene_manager.detect_scenes(frame_source=video_manager)\n",
    "    \n",
    "    # Each returned scene is a tuple of the (start, end) timecode.\n",
    "    return scene_manager.get_scene_list(), stats_manager\n"
   ]
  },
  {
   "cell_type": "code",
   "execution_count": 5,
   "id": "2748b51a",
   "metadata": {
    "scrolled": false
   },
   "outputs": [
    {
     "name": "stderr",
     "output_type": "stream",
     "text": [
      "100%|██████████████████████████████████▉| 2012/2015 [00:21<00:00, 91.88frames/s]"
     ]
    },
    {
     "name": "stdout",
     "output_type": "stream",
     "text": [
      "8 [(FrameTimecode(frame=0, fps=59.004392), FrameTimecode(frame=637, fps=59.004392)), (FrameTimecode(frame=637, fps=59.004392), FrameTimecode(frame=756, fps=59.004392)), (FrameTimecode(frame=756, fps=59.004392), FrameTimecode(frame=1141, fps=59.004392)), (FrameTimecode(frame=1141, fps=59.004392), FrameTimecode(frame=1479, fps=59.004392)), (FrameTimecode(frame=1479, fps=59.004392), FrameTimecode(frame=1509, fps=59.004392)), (FrameTimecode(frame=1509, fps=59.004392), FrameTimecode(frame=1798, fps=59.004392)), (FrameTimecode(frame=1798, fps=59.004392), FrameTimecode(frame=1939, fps=59.004392)), (FrameTimecode(frame=1939, fps=59.004392), FrameTimecode(frame=2012, fps=59.004392))]\n"
     ]
    },
    {
     "name": "stderr",
     "output_type": "stream",
     "text": [
      "\n"
     ]
    }
   ],
   "source": [
    "scenes, stats = find_scenes('../test/SlideChangeTest1.mov', detector = detector1)\n",
    "print(len(scenes), scenes)"
   ]
  },
  {
   "cell_type": "code",
   "execution_count": 6,
   "id": "110ed7d9",
   "metadata": {},
   "outputs": [],
   "source": [
    "def plot_scores(stats_manager):\n",
    "    frame_axis = []\n",
    "    metrics = {}\n",
    "    for key in stats_manager._registered_metrics:\n",
    "        metrics[key] = []\n",
    "\n",
    "    for frame, val_dict in stats_manager._frame_metrics.items():\n",
    "        frame_axis.append(frame)\n",
    "        for key in stats_manager._registered_metrics:\n",
    "            metrics[key].append(val_dict[key])\n",
    "\n",
    "\n",
    "    for key in stats_manager._registered_metrics:\n",
    "        plt.plot(frame_axis, metrics[key], label = key)      \n",
    "\n",
    "#     if expected is not None:\n",
    "#         for x in expected:\n",
    "#             plt.vlines(x, 0, 50)\n",
    "    plt.legend()\n",
    "    plt.show()"
   ]
  },
  {
   "cell_type": "code",
   "execution_count": 7,
   "id": "ba8c7f37",
   "metadata": {},
   "outputs": [
    {
     "data": {
      "image/png": "[encoded data removed]",
      "text/plain": [
       "<Figure size 432x288 with 1 Axes>"
      ]
     },
     "metadata": {
      "needs_background": "light"
     },
     "output_type": "display_data"
    }
   ],
   "source": [
    "plot_scores(stats)"
   ]
  },
  {
   "cell_type": "code",
   "execution_count": 8,
   "id": "51f92957",
   "metadata": {},
   "outputs": [],
   "source": [
    "def select_frames(scenes, method=\"last\"):\n",
    "    assert method in [\"last\", \"first\", \"middle\"]\n",
    "    \n",
    "    if method == \"last\":\n",
    "        return [x[1].get_frames()-1 for x in scenes]\n",
    "    elif method == \"first\":\n",
    "        return [x[0].get_frames() for x in scenes]\n",
    "    elif method == \"middle\":\n",
    "        return [(x[0].get_frames()+x[1].get_frames())//2 for x in scenes]\n",
    "    \n",
    "    return []\n",
    "    "
   ]
  },
  {
   "cell_type": "code",
   "execution_count": 24,
   "id": "b6be0852",
   "metadata": {},
   "outputs": [
    {
     "data": {
      "text/plain": [
       "[225, 475, 621]"
      ]
     },
     "execution_count": 24,
     "metadata": {},
     "output_type": "execute_result"
    }
   ],
   "source": [
    "frame_lst = select_frames(scenes, method=\"middle\")\n",
    "frame_lst"
   ]
  },
  {
   "cell_type": "code",
   "execution_count": 29,
   "id": "3d0ff44f",
   "metadata": {},
   "outputs": [],
   "source": [
    "def export_frames(file, frames):\n",
    "    cap = cv2.VideoCapture(file)\n",
    "    \n",
    "    # Find OpenCV version\n",
    "    (major_ver, minor_ver, subminor_ver) = (cv2.__version__).split('.')\n",
    "    \n",
    "    if int(major_ver)  < 3 :\n",
    "        fps = cap.get(cv2.cv.CV_CAP_PROP_FPS)\n",
    "    else :\n",
    "        fps = cap.get(cv2.CAP_PROP_FPS)\n",
    "    \n",
    "    length = int(cap.get(cv2.CAP_PROP_FRAME_COUNT))\n",
    "    i = 0\n",
    "    while (cap.isOpened() and i < len(frames)):\n",
    "        j = frames[i]\n",
    "        seconds = \"{:.3f}\".format(j / 25)\n",
    "        cap.set(1, j)\n",
    "        ret, frame = cap.read()\n",
    "        if ret == False:\n",
    "            break\n",
    "        \n",
    "#         cv.imwrite(\"./trainingDataPreprocessing/img_y/\" + \"{:04d}\".format(i) + \".png\", frame)\n",
    "        cv2.imwrite(\"vv/p\"+str(i) + \".bmp\", frame)\n",
    "        print(j, \"p\", i)\n",
    "        i += 1\n",
    "        \n",
    "    cap.release()\n",
    "    cv2.destroyAllWindows()\n"
   ]
  },
  {
   "cell_type": "code",
   "execution_count": 58,
   "id": "4e3ed039",
   "metadata": {
    "scrolled": true
   },
   "outputs": [
    {
     "name": "stdout",
     "output_type": "stream",
     "text": [
      "2000 p 0\n",
      "4050 p 1\n",
      "4200 p 2\n",
      "4950 p 3\n",
      "5625 p 4\n",
      "6025 p 5\n",
      "6475 p 6\n",
      "6900 p 7\n",
      "7525 p 8\n",
      "10575 p 9\n",
      "17544 p 10\n"
     ]
    }
   ],
   "source": [
    "export_frames('../test/SlideChangeTest2.mp4', sorted(frame_lst))"
   ]
  },
  {
   "cell_type": "code",
   "execution_count": 9,
   "id": "968a3cf1",
   "metadata": {
    "scrolled": true
   },
   "outputs": [],
   "source": [
    "expected = np.array([10, 12, 19, 25, 32, 34]) * 2010 / 34"
   ]
  },
  {
   "cell_type": "code",
   "execution_count": 25,
   "id": "6dc84e99",
   "metadata": {},
   "outputs": [
    {
     "data": {
      "text/plain": [
       "array([ 591.17647059,  709.41176471, 1123.23529412, 1477.94117647,\n",
       "       1891.76470588, 2010.        ])"
      ]
     },
     "execution_count": 25,
     "metadata": {},
     "output_type": "execute_result"
    }
   ],
   "source": [
    "expected"
   ]
  },
  {
   "cell_type": "code",
   "execution_count": 5,
   "id": "c0cbb0a7",
   "metadata": {},
   "outputs": [],
   "source": [
    "from slideDetect import SlideDetect\n",
    "from util import FileLocator\n",
    "import os"
   ]
  },
  {
   "cell_type": "code",
   "execution_count": 15,
   "id": "9bbb98b2",
   "metadata": {},
   "outputs": [],
   "source": [
    "filename = \"../test/SlideChangeTest2.mp4\"\n",
    "locator = FileLocator(filename, os.getcwd() + \"/output12/temp\")"
   ]
  },
  {
   "cell_type": "code",
   "execution_count": 16,
   "id": "4171cc4b",
   "metadata": {},
   "outputs": [],
   "source": [
    "frame_lst = [x[1].get_frames() for x in scenes]"
   ]
  },
  {
   "cell_type": "code",
   "execution_count": 14,
   "id": "72d22297",
   "metadata": {},
   "outputs": [
    {
     "data": {
      "text/plain": [
       "1460.8"
      ]
     },
     "execution_count": 14,
     "metadata": {},
     "output_type": "execute_result"
    }
   ],
   "source": [
    "36520/25"
   ]
  },
  {
   "cell_type": "code",
   "execution_count": 17,
   "id": "c05d0c23",
   "metadata": {
    "scrolled": true
   },
   "outputs": [
    {
     "data": {
      "text/plain": [
       "[{'start_time': 0,\n",
       "  'end_time': 160000,\n",
       "  'image_time': 52680,\n",
       "  'image': '/Users/kcluo/PycharmProjects/thoth/python/output12/temp/image/SlideChangeTest2_mp4_52680.png'},\n",
       " {'start_time': 160000,\n",
       "  'end_time': 164000,\n",
       "  'image_time': 161920,\n",
       "  'image': '/Users/kcluo/PycharmProjects/thoth/python/output12/temp/image/SlideChangeTest2_mp4_161920.png'},\n",
       " {'start_time': 164000,\n",
       "  'end_time': 172000,\n",
       "  'image_time': 164680,\n",
       "  'image': '/Users/kcluo/PycharmProjects/thoth/python/output12/temp/image/SlideChangeTest2_mp4_164680.png'},\n",
       " {'start_time': 172000,\n",
       "  'end_time': 224000,\n",
       "  'image_time': 205240,\n",
       "  'image': '/Users/kcluo/PycharmProjects/thoth/python/output12/temp/image/SlideChangeTest2_mp4_205240.png'},\n",
       " {'start_time': 224000,\n",
       "  'end_time': 226000,\n",
       "  'image_time': 225080,\n",
       "  'image': '/Users/kcluo/PycharmProjects/thoth/python/output12/temp/image/SlideChangeTest2_mp4_225080.png'},\n",
       " {'start_time': 226000,\n",
       "  'end_time': 256000,\n",
       "  'image_time': 235240,\n",
       "  'image': '/Users/kcluo/PycharmProjects/thoth/python/output12/temp/image/SlideChangeTest2_mp4_235240.png'},\n",
       " {'start_time': 256000,\n",
       "  'end_time': 262000,\n",
       "  'image_time': 256840,\n",
       "  'image': '/Users/kcluo/PycharmProjects/thoth/python/output12/temp/image/SlideChangeTest2_mp4_256840.png'},\n",
       " {'start_time': 262000,\n",
       "  'end_time': 290000,\n",
       "  'image_time': 264040,\n",
       "  'image': '/Users/kcluo/PycharmProjects/thoth/python/output12/temp/image/SlideChangeTest2_mp4_264040.png'},\n",
       " {'start_time': 290000,\n",
       "  'end_time': 312000,\n",
       "  'image_time': 300040,\n",
       "  'image': '/Users/kcluo/PycharmProjects/thoth/python/output12/temp/image/SlideChangeTest2_mp4_300040.png'},\n",
       " {'start_time': 312000,\n",
       "  'end_time': 534000,\n",
       "  'image_time': 386440,\n",
       "  'image': '/Users/kcluo/PycharmProjects/thoth/python/output12/temp/image/SlideChangeTest2_mp4_386440.png'},\n",
       " {'start_time': 534000,\n",
       "  'end_time': 869560,\n",
       "  'image_time': 696040,\n",
       "  'image': '/Users/kcluo/PycharmProjects/thoth/python/output12/temp/image/SlideChangeTest2_mp4_696040.png'}]"
      ]
     },
     "execution_count": 17,
     "metadata": {},
     "output_type": "execute_result"
    }
   ],
   "source": [
    "SlideDetect.export_frames(locator, frame_lst)"
   ]
  },
  {
   "cell_type": "code",
   "execution_count": 73,
   "id": "a1384eab",
   "metadata": {},
   "outputs": [
    {
     "data": {
      "text/plain": [
       "'/Users/kcluo/PycharmProjects/thoth/python'"
      ]
     },
     "execution_count": 73,
     "metadata": {},
     "output_type": "execute_result"
    }
   ],
   "source": [
    "os.getcwd()"
   ]
  },
  {
   "cell_type": "code",
   "execution_count": 33,
   "id": "4062b245",
   "metadata": {},
   "outputs": [],
   "source": [
    "data = [{\"start_time\": 0, \"end_time\": 10795, \"image_time\": 33, \"image\": \"/Users/kcluo/PycharmProjects/thoth/output66/temp/image/SlideChangeTest1_mov_33.png\"}, {\"start_time\": 10795, \"end_time\": 12812, \"image_time\": 10812, \"image\": \"/Users/kcluo/PycharmProjects/thoth/output66/temp/image/SlideChangeTest1_mov_10812.png\"}, {\"start_time\": 12812, \"end_time\": 19337, \"image_time\": 12829, \"image\": \"/Users/kcluo/PycharmProjects/thoth/output66/temp/image/SlideChangeTest1_mov_12829.png\"}, {\"start_time\": 19337, \"end_time\": 25065, \"image_time\": 19354, \"image\": \"/Users/kcluo/PycharmProjects/thoth/output66/temp/image/SlideChangeTest1_mov_19354.png\"}, {\"start_time\": 25065, \"end_time\": 25574, \"image_time\": 25082, \"image\": \"/Users/kcluo/PycharmProjects/thoth/output66/temp/image/SlideChangeTest1_mov_25082.png\"}, {\"start_time\": 25574, \"end_time\": 30472, \"image_time\": 25591, \"image\": \"/Users/kcluo/PycharmProjects/thoth/output66/temp/image/SlideChangeTest1_mov_25591.png\"}, {\"start_time\": 30472, \"end_time\": 32861, \"image_time\": 30489, \"image\": \"/Users/kcluo/PycharmProjects/thoth/output66/temp/image/SlideChangeTest1_mov_30489.png\"}, {\"start_time\": 32861, \"end_time\": 34099, \"image_time\": 32878, \"image\": \"/Users/kcluo/PycharmProjects/thoth/output66/temp/image/SlideChangeTest1_mov_32878.png\"}]"
   ]
  },
  {
   "cell_type": "code",
   "execution_count": 27,
   "id": "3bc9c676",
   "metadata": {},
   "outputs": [],
   "source": [
    "ff = [x['image_time']//40 for x in data]"
   ]
  },
  {
   "cell_type": "code",
   "execution_count": 28,
   "id": "bef0b78c",
   "metadata": {},
   "outputs": [
    {
     "data": {
      "text/plain": [
       "[1317, 4048, 4117, 5131, 5627, 5881, 6421, 6601, 7501, 9661, 17401]"
      ]
     },
     "execution_count": 28,
     "metadata": {},
     "output_type": "execute_result"
    }
   ],
   "source": [
    "ff"
   ]
  },
  {
   "cell_type": "code",
   "execution_count": 32,
   "id": "6bcdfc53",
   "metadata": {},
   "outputs": [
    {
     "name": "stdout",
     "output_type": "stream",
     "text": [
      "1317 p 0\n",
      "4048 p 1\n",
      "4117 p 2\n",
      "5131 p 3\n",
      "5627 p 4\n",
      "5881 p 5\n",
      "6421 p 6\n",
      "6601 p 7\n",
      "7501 p 8\n",
      "9661 p 9\n",
      "17401 p 10\n"
     ]
    }
   ],
   "source": [
    "export_frames('../test/SlideChangeTest2.mp4', sorted(ff))"
   ]
  },
  {
   "cell_type": "code",
   "execution_count": null,
   "id": "aadade09",
   "metadata": {},
   "outputs": [],
   "source": []
  }
 ],
 "metadata": {
  "kernelspec": {
   "display_name": "torch",
   "language": "python",
   "name": "torch"
  },
  "language_info": {
   "codemirror_mode": {
    "name": "ipython",
    "version": 3
   },
   "file_extension": ".py",
   "mimetype": "text/x-python",
   "name": "python",
   "nbconvert_exporter": "python",
   "pygments_lexer": "ipython3",
   "version": "3.8.10"
  }
 },
 "nbformat": 4,
 "nbformat_minor": 5
}
